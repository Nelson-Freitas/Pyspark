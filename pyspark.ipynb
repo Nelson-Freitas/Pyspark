{
 "cells": [
  {
   "cell_type": "code",
   "execution_count": 1,
   "metadata": {},
   "outputs": [],
   "source": [
    "import pyspark.sql.functions as F\n",
    "from pyspark.sql.types import StructType, StructField, StringType\n",
    "from pyspark.sql import SparkSession"
   ]
  },
  {
   "cell_type": "code",
   "execution_count": 2,
   "metadata": {},
   "outputs": [
    {
     "name": "stdout",
     "output_type": "stream",
     "text": [
      "22/06/28 15:34:18 WARN Utils: Your hostname, idea-Inspiron-15-3567 resolves to a loopback address: 127.0.1.1; using 192.168.1.24 instead (on interface enp2s0)\n",
      "22/06/28 15:34:18 WARN Utils: Set SPARK_LOCAL_IP if you need to bind to another address\n"
     ]
    },
    {
     "name": "stderr",
     "output_type": "stream",
     "text": [
      "Setting default log level to \"WARN\".\n",
      "To adjust logging level use sc.setLogLevel(newLevel). For SparkR, use setLogLevel(newLevel).\n"
     ]
    },
    {
     "name": "stdout",
     "output_type": "stream",
     "text": [
      "22/06/28 15:34:20 WARN NativeCodeLoader: Unable to load native-hadoop library for your platform... using builtin-java classes where applicable\n"
     ]
    }
   ],
   "source": [
    "spark = (SparkSession.builder\n",
    "    .master(\"local[*]\")\n",
    "    .appName(\"estudando-dataframes\")\n",
    "    .getOrCreate())"
   ]
  },
  {
   "cell_type": "code",
   "execution_count": 3,
   "metadata": {},
   "outputs": [],
   "source": [
    "\n",
    "dados = (\n",
    "    ['1', 'José', 'Anápolis', 'São Paulo', '01-09-1900'],\n",
    "    ['2', 'Igor', 'Anápolis', 'São Paulo', '11-09-1977'],\n",
    "    ['3', 'Leonardo', 'Anápolis', 'São Paulo', '21-12-2000'],\n",
    "    ['4', 'Humberto', 'Pato Branco', 'Rio Grande do Sul', '13-11-1964'],\n",
    "    ['5', 'Isaias', 'Pato Branco', 'Rio Grande do Sul', '07-07-2002'],\n",
    "    ['6', 'Lucas', 'Tauá', 'Ceará', '05-09-1984'],\n",
    ")"
   ]
  },
  {
   "cell_type": "code",
   "execution_count": 4,
   "metadata": {},
   "outputs": [],
   "source": [
    "# Estrutura do dataframe\n",
    "esquema = (StructType([\n",
    "    StructField('cod_cliente', StringType(), True),\n",
    "    StructField('nome', StringType(), True),\n",
    "    StructField('municipio', StringType(), True),\n",
    "    StructField('estado', StringType(), True),\n",
    "    StructField('data_nasc', StringType(), True),\n",
    "]))"
   ]
  },
  {
   "cell_type": "code",
   "execution_count": 5,
   "metadata": {},
   "outputs": [
    {
     "name": "stderr",
     "output_type": "stream",
     "text": [
      "                                                                                \r"
     ]
    },
    {
     "name": "stdout",
     "output_type": "stream",
     "text": [
      "+-----------+--------+-----------+-----------------+----------+\n",
      "|cod_cliente|    nome|  municipio|           estado| data_nasc|\n",
      "+-----------+--------+-----------+-----------------+----------+\n",
      "|          1|    José|   Anápolis|        São Paulo|01-09-1900|\n",
      "|          2|    Igor|   Anápolis|        São Paulo|11-09-1977|\n",
      "|          3|Leonardo|   Anápolis|        São Paulo|21-12-2000|\n",
      "|          4|Humberto|Pato Branco|Rio Grande do Sul|13-11-1964|\n",
      "|          5|  Isaias|Pato Branco|Rio Grande do Sul|07-07-2002|\n",
      "|          6|   Lucas|       Tauá|            Ceará|05-09-1984|\n",
      "+-----------+--------+-----------+-----------------+----------+\n",
      "\n"
     ]
    }
   ],
   "source": [
    "df = spark.createDataFrame(data=dados, schema=esquema) # Criando dataframe \n",
    "df.show()"
   ]
  },
  {
   "cell_type": "code",
   "execution_count": 6,
   "metadata": {},
   "outputs": [
    {
     "name": "stderr",
     "output_type": "stream",
     "text": [
      "[Stage 2:>                                                          (0 + 4) / 4]\r"
     ]
    },
    {
     "name": "stdout",
     "output_type": "stream",
     "text": [
      "+-----------+-----+\n",
      "|municipio  |count|\n",
      "+-----------+-----+\n",
      "|Anápolis   |3    |\n",
      "|Pato Branco|2    |\n",
      "|Tauá       |1    |\n",
      "+-----------+-----+\n",
      "\n"
     ]
    },
    {
     "name": "stderr",
     "output_type": "stream",
     "text": [
      "                                                                                \r"
     ]
    }
   ],
   "source": [
    "# Contador sequencial por municipio\n",
    "df.groupBy('municipio').count().sort('municipio', ascending=True).show(truncate=False)"
   ]
  },
  {
   "cell_type": "code",
   "execution_count": 7,
   "metadata": {},
   "outputs": [
    {
     "name": "stdout",
     "output_type": "stream",
     "text": [
      "+-----------+--------+-----------+-----------------+----------+\n",
      "|cod_cliente|    nome|  municipio|           estado| data_nasc|\n",
      "+-----------+--------+-----------+-----------------+----------+\n",
      "|          6|   Lucas|       Tauá|            Ceará|05-09-1984|\n",
      "|          5|  Isaias|Pato Branco|Rio Grande do Sul|07-07-2002|\n",
      "|          4|Humberto|Pato Branco|Rio Grande do Sul|13-11-1964|\n",
      "|          2|    Igor|   Anápolis|        São Paulo|11-09-1977|\n",
      "|          3|Leonardo|   Anápolis|        São Paulo|21-12-2000|\n",
      "|          1|    José|   Anápolis|        São Paulo|01-09-1900|\n",
      "+-----------+--------+-----------+-----------------+----------+\n",
      "\n"
     ]
    }
   ],
   "source": [
    "# Ordenando a coluna estado\n",
    "df = df.orderBy('estado') \n",
    "df.show()"
   ]
  },
  {
   "cell_type": "code",
   "execution_count": 8,
   "metadata": {},
   "outputs": [
    {
     "name": "stdout",
     "output_type": "stream",
     "text": [
      "+-----------+--------+-----------+-----------------+----------+-----+\n",
      "|cod_cliente|    nome|  municipio|           estado| data_nasc|idade|\n",
      "+-----------+--------+-----------+-----------------+----------+-----+\n",
      "|          6|   Lucas|       Tauá|            Ceará|05-09-1984|   38|\n",
      "|          4|Humberto|Pato Branco|Rio Grande do Sul|13-11-1964|   58|\n",
      "|          5|  Isaias|Pato Branco|Rio Grande do Sul|07-07-2002|   20|\n",
      "|          1|    José|   Anápolis|        São Paulo|01-09-1900|  122|\n",
      "|          3|Leonardo|   Anápolis|        São Paulo|21-12-2000|   22|\n",
      "|          2|    Igor|   Anápolis|        São Paulo|11-09-1977|   45|\n",
      "+-----------+--------+-----------+-----------------+----------+-----+\n",
      "\n"
     ]
    }
   ],
   "source": [
    "# Adicionando uma coluna nova de idade em anos                           cast converte p/inteiro\n",
    "df = df.withColumn('idade', F.date_format(F.current_timestamp(), 'yyyy').cast('integer') \\\n",
    "                   - F.substring(F.col('data_nasc'), 7, 4).cast('integer')) #subtraindo para obter idade\n",
    "df.show()"
   ]
  },
  {
   "cell_type": "code",
   "execution_count": 9,
   "metadata": {},
   "outputs": [
    {
     "name": "stdout",
     "output_type": "stream",
     "text": [
      "+-----------+--------+-----------+-----------------+----------+-----+\n",
      "|cod_cliente|    nome|  municipio|           estado| data_nasc|idade|\n",
      "+-----------+--------+-----------+-----------------+----------+-----+\n",
      "|       0006|   Lucas|       Tauá|            Ceará|05-09-1984|   38|\n",
      "|       0004|Humberto|Pato Branco|Rio Grande do Sul|13-11-1964|   58|\n",
      "|       0005|  Isaias|Pato Branco|Rio Grande do Sul|07-07-2002|   20|\n",
      "|       0001|    José|   Anápolis|        São Paulo|01-09-1900|  122|\n",
      "|       0003|Leonardo|   Anápolis|        São Paulo|21-12-2000|   22|\n",
      "|       0002|    Igor|   Anápolis|        São Paulo|11-09-1977|   45|\n",
      "+-----------+--------+-----------+-----------------+----------+-----+\n",
      "\n"
     ]
    }
   ],
   "source": [
    "# Adicionando 0000 a esquerda na coluna cod_cliente\n",
    "df = df.withColumn('cod_cliente', F.lpad(df.cod_cliente, 4, '0')) \n",
    "df.show()"
   ]
  },
  {
   "cell_type": "code",
   "execution_count": 10,
   "metadata": {},
   "outputs": [
    {
     "name": "stdout",
     "output_type": "stream",
     "text": [
      "+-----------+--------+-----------+-----------------+----------+-----+\n",
      "|cod_cliente|    nome|  municipio|           estado| data_nasc|idade|\n",
      "+-----------+--------+-----------+-----------------+----------+-----+\n",
      "|       0006|   Lucas|       Tauá|            Ceará|05-09-1984|   38|\n",
      "|       0005|  Isaias|Pato Branco|Rio Grande do Sul|07-07-2002|   20|\n",
      "|       0004|Humberto|Pato Branco|Rio Grande do Sul|13-11-1964|   58|\n",
      "|       0002|    Igor|   Anápolis|        São Paulo|11-09-1977|   45|\n",
      "|       0003|Leonardo|   Anápolis|        São Paulo|21-12-2000|   22|\n",
      "|       0001|    José|   Anápolis|        São Paulo|01-09-1900|  122|\n",
      "+-----------+--------+-----------+-----------------+----------+-----+\n",
      "\n"
     ]
    }
   ],
   "source": [
    "# Adicionando 0 a esquerda na coluna cod_cliente\n",
    "df = df.withColumn('cod_cliente', F.lpad(df.cod_cliente, 4, '0')) \n",
    "df.show()"
   ]
  },
  {
   "cell_type": "code",
   "execution_count": 12,
   "metadata": {},
   "outputs": [
    {
     "name": "stdout",
     "output_type": "stream",
     "text": [
      "+-----------+--------+-----------+-----------------+----------+-----+--------------------+\n",
      "|cod_cliente|    nome|  municipio|           estado| data_nasc|idade|    data_atualizacao|\n",
      "+-----------+--------+-----------+-----------------+----------+-----+--------------------+\n",
      "|       0006|   Lucas|       Tauá|            Ceará|05-09-1984|   38|28-06-2022 | 15:3...|\n",
      "|       0005|  Isaias|Pato Branco|Rio Grande do Sul|07-07-2002|   20|28-06-2022 | 15:3...|\n",
      "|       0004|Humberto|Pato Branco|Rio Grande do Sul|13-11-1964|   58|28-06-2022 | 15:3...|\n",
      "|       0002|    Igor|   Anápolis|        São Paulo|11-09-1977|   45|28-06-2022 | 15:3...|\n",
      "|       0003|Leonardo|   Anápolis|        São Paulo|21-12-2000|   22|28-06-2022 | 15:3...|\n",
      "|       0001|    José|   Anápolis|        São Paulo|01-09-1900|  122|28-06-2022 | 15:3...|\n",
      "+-----------+--------+-----------+-----------------+----------+-----+--------------------+\n",
      "\n"
     ]
    }
   ],
   "source": [
    "df = df.withColumn('data_atualizacao', F.date_format(F.current_timestamp(), 'dd-MM-yyyy | HH:mm:ss')) \n",
    "df.show()"
   ]
  },
  {
   "cell_type": "code",
   "execution_count": 13,
   "metadata": {},
   "outputs": [
    {
     "name": "stdout",
     "output_type": "stream",
     "text": [
      "+-----------+--------+-----------+-----------------+----------+-----+--------------------+-------------+\n",
      "|cod_cliente|    nome|  municipio|           estado| data_nasc|idade|    data_atualizacao|data_execucao|\n",
      "+-----------+--------+-----------+-----------------+----------+-----+--------------------+-------------+\n",
      "|       0006|   Lucas|       Tauá|            Ceará|05-09-1984|   38|28-06-2022 | 15:3...|   28-06-2022|\n",
      "|       0004|Humberto|Pato Branco|Rio Grande do Sul|13-11-1964|   58|28-06-2022 | 15:3...|   28-06-2022|\n",
      "|       0005|  Isaias|Pato Branco|Rio Grande do Sul|07-07-2002|   20|28-06-2022 | 15:3...|   28-06-2022|\n",
      "|       0001|    José|   Anápolis|        São Paulo|01-09-1900|  122|28-06-2022 | 15:3...|   28-06-2022|\n",
      "|       0002|    Igor|   Anápolis|        São Paulo|11-09-1977|   45|28-06-2022 | 15:3...|   28-06-2022|\n",
      "|       0003|Leonardo|   Anápolis|        São Paulo|21-12-2000|   22|28-06-2022 | 15:3...|   28-06-2022|\n",
      "+-----------+--------+-----------+-----------------+----------+-----+--------------------+-------------+\n",
      "\n"
     ]
    }
   ],
   "source": [
    "\n",
    "# data de execução\n",
    "df = df.withColumn('data_execucao', F.date_format(F.current_timestamp(), 'dd-MM-yyyy')) # Cria ou manipula\n",
    "df.show()"
   ]
  },
  {
   "cell_type": "code",
   "execution_count": 14,
   "metadata": {},
   "outputs": [],
   "source": [
    "# removendo caracteres especiais da coluna estado\n",
    "df = df.withColumn('estado', F.regexp_replace('estado', 'á', 'a') \\\n",
    "    ).withColumn('estado', F.regexp_replace('estado', 'ã', 'a'))"
   ]
  },
  {
   "cell_type": "code",
   "execution_count": 15,
   "metadata": {},
   "outputs": [
    {
     "data": {
      "text/plain": [
       "'\\nConvert PySpark Dataframe to Pandas DataFrame\\npandasdf = df.toPandas()\\nprint(pandasdf)\\n'"
      ]
     },
     "execution_count": 15,
     "metadata": {},
     "output_type": "execute_result"
    }
   ],
   "source": [
    "\"\"\"\n",
    "Convert PySpark Dataframe to Pandas DataFrame\n",
    "pandasdf = df.toPandas()\n",
    "print(pandasdf)\n",
    "\"\"\""
   ]
  },
  {
   "cell_type": "code",
   "execution_count": 16,
   "metadata": {},
   "outputs": [
    {
     "name": "stdout",
     "output_type": "stream",
     "text": [
      "+-----------+--------+-----------+-----------------+----------+-----+---------------------+-------------+\n",
      "|cod_cliente|nome    |municipio  |estado           |data_nasc |idade|data_atualizacao     |data_execucao|\n",
      "+-----------+--------+-----------+-----------------+----------+-----+---------------------+-------------+\n",
      "|0006       |Lucas   |Tauá       |Ceara            |05-09-1984|38   |28-06-2022 | 15:35:23|28-06-2022   |\n",
      "|0005       |Isaias  |Pato Branco|Rio Grande do Sul|07-07-2002|20   |28-06-2022 | 15:35:23|28-06-2022   |\n",
      "|0004       |Humberto|Pato Branco|Rio Grande do Sul|13-11-1964|58   |28-06-2022 | 15:35:23|28-06-2022   |\n",
      "|0002       |Igor    |Anápolis   |Sao Paulo        |11-09-1977|45   |28-06-2022 | 15:35:23|28-06-2022   |\n",
      "|0003       |Leonardo|Anápolis   |Sao Paulo        |21-12-2000|22   |28-06-2022 | 15:35:23|28-06-2022   |\n",
      "|0001       |José    |Anápolis   |Sao Paulo        |01-09-1900|122  |28-06-2022 | 15:35:23|28-06-2022   |\n",
      "+-----------+--------+-----------+-----------------+----------+-----+---------------------+-------------+\n",
      "\n"
     ]
    }
   ],
   "source": [
    "df.show(truncate=False)"
   ]
  },
  {
   "cell_type": "code",
   "execution_count": null,
   "metadata": {},
   "outputs": [],
   "source": []
  }
 ],
 "metadata": {
  "kernelspec": {
   "display_name": "Python 3.10.4 64-bit",
   "language": "python",
   "name": "python3"
  },
  "language_info": {
   "codemirror_mode": {
    "name": "ipython",
    "version": 3
   },
   "file_extension": ".py",
   "mimetype": "text/x-python",
   "name": "python",
   "nbconvert_exporter": "python",
   "pygments_lexer": "ipython3",
   "version": "3.10.4"
  },
  "orig_nbformat": 4,
  "vscode": {
   "interpreter": {
    "hash": "31f2aee4e71d21fbe5cf8b01ff0e069b9275f58929596ceb00d14d90e3e16cd6"
   }
  }
 },
 "nbformat": 4,
 "nbformat_minor": 2
}
